{
 "cells": [
  {
   "cell_type": "code",
   "execution_count": 1,
   "id": "ca6a7800",
   "metadata": {},
   "outputs": [
    {
     "name": "stdout",
     "output_type": "stream",
     "text": [
      "Submitting Form\n",
      "('ewqq', '23456', 'f', '0987', 'xdc', 1)\n"
     ]
    }
   ],
   "source": [
    "from tkinter import *\n",
    "\n",
    "root = Tk()\n",
    "def getvals():\n",
    "    print(\"Submitting Form\")\n",
    "\n",
    "    print(f\"{namevalue.get(), phonevalue.get(), gendervalue.get(), emergencyvalue.get(), paymentmodevalue.get(), foodservicevalue.get()}\")\n",
    "\n",
    "    with open(\"records.txt\",\"a\") as f:\n",
    "        f.write(f\"{namevalue.get(), phonevalue.get(), gendervalue.get(), emergencyvalue.get(), paymentmodevalue.get(), foodservicevalue.get()}\\n\")\n",
    "\n",
    "\n",
    "\n",
    "root.geometry(\"744x444\")\n",
    "\n",
    "Label(root, text=\"Welcome to ABCD Travels\", font=\"comicsansns 13 bold\",pady=10).grid(row=0, column=3)\n",
    "name = Label(root, text=\"Name\")\n",
    "phone = Label(root, text=\"Phone\")\n",
    "gender = Label(root, text=\"Gender\")\n",
    "emergency = Label(root, text=\"Emergency Contact\")\n",
    "paymentmode = Label(root, text=\"Payment Mode\")\n",
    "\n",
    "name.grid(row=1,column=2)\n",
    "phone.grid(row=2,column=2)\n",
    "gender.grid(row=3,column=2)\n",
    "emergency.grid(row=4,column=2)\n",
    "paymentmode.grid(row=5,column=2)\n",
    "\n",
    "namevalue = StringVar()\n",
    "phonevalue = StringVar()\n",
    "gendervalue = StringVar()\n",
    "emergencyvalue = StringVar()\n",
    "paymentmodevalue = StringVar()\n",
    "foodservicevalue = IntVar()\n",
    "\n",
    "nameentry = Entry(root, textvariable=namevalue)\n",
    "phoneentry = Entry(root, textvariable=phonevalue)\n",
    "genderentry = Entry(root, textvariable=gendervalue)\n",
    "emergencyentry = Entry(root, textvariable=emergencyvalue)\n",
    "paymentmodeentry = Entry(root, textvariable=paymentmodevalue)\n",
    "\n",
    "\n",
    "nameentry.grid(row=1,column=3)\n",
    "phoneentry.grid(row=2,column=3)\n",
    "genderentry.grid(row=3,column=3)\n",
    "emergencyentry.grid(row=4,column=3)\n",
    "paymentmodeentry.grid(row=5,column=3)\n",
    "\n",
    "foodservice = Checkbutton(text=\"Want to prebook your meals?\", variable= foodservicevalue)\n",
    "foodservice.grid(row=6,column=3)\n",
    "\n",
    "Button(text=\"Submit to ABCD Travels\",command=getvals).grid(row=7,column=3)\n",
    "\n",
    "root.mainloop()"
   ]
  },
  {
   "cell_type": "code",
   "execution_count": null,
   "id": "728222bc",
   "metadata": {},
   "outputs": [],
   "source": []
  }
 ],
 "metadata": {
  "kernelspec": {
   "display_name": "Python 3 (ipykernel)",
   "language": "python",
   "name": "python3"
  },
  "language_info": {
   "codemirror_mode": {
    "name": "ipython",
    "version": 3
   },
   "file_extension": ".py",
   "mimetype": "text/x-python",
   "name": "python",
   "nbconvert_exporter": "python",
   "pygments_lexer": "ipython3",
   "version": "3.11.4"
  }
 },
 "nbformat": 4,
 "nbformat_minor": 5
}
